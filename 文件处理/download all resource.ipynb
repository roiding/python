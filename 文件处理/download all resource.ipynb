{
 "cells": [
  {
   "cell_type": "code",
   "execution_count": 6,
   "id": "b6d82889",
   "metadata": {},
   "outputs": [],
   "source": [
    "# -*- coding: utf-8 -*-  \n",
    "import os"
   ]
  },
  {
   "cell_type": "code",
   "execution_count": 19,
   "id": "21e83a4f",
   "metadata": {},
   "outputs": [],
   "source": [
    "list1=[]\n",
    "for line in open('./待替换OSS内容.txt'):\n",
    "    list1.append(line)\n",
    "set1 = set(list1)"
   ]
  },
  {
   "cell_type": "code",
   "execution_count": 42,
   "id": "4e520d0b",
   "metadata": {},
   "outputs": [
    {
     "ename": "SyntaxError",
     "evalue": "unexpected EOF while parsing (<ipython-input-42-6fe76ab4732f>, line 7)",
     "output_type": "error",
     "traceback": [
      "\u001b[0;36m  File \u001b[0;32m\"<ipython-input-42-6fe76ab4732f>\"\u001b[0;36m, line \u001b[0;32m7\u001b[0m\n\u001b[0;31m    request.urlretrieve(url,os.join(floder,o.path.split('/')[2])\u001b[0m\n\u001b[0m                                                                ^\u001b[0m\n\u001b[0;31mSyntaxError\u001b[0m\u001b[0;31m:\u001b[0m unexpected EOF while parsing\n"
     ]
    }
   ],
   "source": [
    "from urllib import parse,request\n",
    "for url in set1:\n",
    "    o = parse.urlparse(url)\n",
    "    floder = o.path.split('/')[1]\n",
    "    if not os.path.exists(floder):\n",
    "        os.makedirs(floder)\n",
    "    request.urlretrieve(url,os.path.join(floder,o.path.split('/')[2])"
   ]
  },
  {
   "cell_type": "code",
   "execution_count": null,
   "id": "c3cdfa1f",
   "metadata": {},
   "outputs": [],
   "source": []
  }
 ],
 "metadata": {
  "kernelspec": {
   "display_name": "Python 3",
   "language": "python",
   "name": "python3"
  },
  "language_info": {
   "codemirror_mode": {
    "name": "ipython",
    "version": 3
   },
   "file_extension": ".py",
   "mimetype": "text/x-python",
   "name": "python",
   "nbconvert_exporter": "python",
   "pygments_lexer": "ipython3",
   "version": "3.8.8"
  }
 },
 "nbformat": 4,
 "nbformat_minor": 5
}
